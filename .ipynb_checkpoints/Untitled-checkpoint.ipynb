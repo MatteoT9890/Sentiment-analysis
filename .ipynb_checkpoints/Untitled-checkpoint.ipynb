{
 "cells": [
  {
   "cell_type": "code",
   "execution_count": 13,
   "metadata": {},
   "outputs": [
    {
     "name": "stdout",
     "output_type": "stream",
     "text": [
      "Token: Fabio  is a  PROPN\n",
      "trovato\n",
      "Token: Frattin  is a  PROPN\n",
      "trovato\n"
     ]
    }
   ],
   "source": [
    "import it_core_news_sm \n",
    "\n",
    "lemmatizer=it_core_news_sm.load()\n",
    "\n",
    "doc = lemmatizer('Fabio frattin')\n",
    "for t in doc:\n",
    "    print('Token:',t,' is a ', t.pos_)\n",
    "    if (t.pos_ in {'ADP','PROPN','PUNCT','DET','NOUN'}):\n",
    "        print('trovato')\n"
   ]
  },
  {
   "cell_type": "code",
   "execution_count": null,
   "metadata": {},
   "outputs": [],
   "source": []
  }
 ],
 "metadata": {
  "kernelspec": {
   "display_name": "Python 3",
   "language": "python",
   "name": "python3"
  },
  "language_info": {
   "codemirror_mode": {
    "name": "ipython",
    "version": 3
   },
   "file_extension": ".py",
   "mimetype": "text/x-python",
   "name": "python",
   "nbconvert_exporter": "python",
   "pygments_lexer": "ipython3",
   "version": "3.7.4"
  }
 },
 "nbformat": 4,
 "nbformat_minor": 2
}
